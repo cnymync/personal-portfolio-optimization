{
 "cells": [
  {
   "cell_type": "code",
   "execution_count": 48,
   "id": "c9142169-017c-4203-a395-88ce8f1329a5",
   "metadata": {},
   "outputs": [],
   "source": [
    "import yfinance as yf\n",
    "import pandas as pd\n",
    "from datetime import datetime, timedelta\n",
    "import numpy as np\n",
    "from scipy.optimize import minimize"
   ]
  },
  {
   "cell_type": "code",
   "execution_count": 50,
   "id": "fa94b0d2-fc69-4a90-baad-bc0862b44f82",
   "metadata": {},
   "outputs": [],
   "source": [
    "tickers = ['IVV', 'AMZN', 'AAPL', 'VEU', 'GOLD'] \n",
    "#tickers = ['SPY', 'BND', 'GLD', 'QQQ', 'VTI'] "
   ]
  },
  {
   "cell_type": "code",
   "execution_count": 52,
   "id": "38bb1164-0b55-4578-8b9a-23ccb826600d",
   "metadata": {},
   "outputs": [],
   "source": [
    "end_date = datetime.today()"
   ]
  },
  {
   "cell_type": "code",
   "execution_count": 54,
   "id": "6f240ff2-c4d7-463c-8799-9985196441ea",
   "metadata": {},
   "outputs": [
    {
     "name": "stdout",
     "output_type": "stream",
     "text": [
      "2024-01-06 09:47:14.814881\n"
     ]
    }
   ],
   "source": [
    "start_date = end_date - timedelta(days = 1.5*365)\n",
    "print(start_date)"
   ]
  },
  {
   "cell_type": "code",
   "execution_count": 7,
   "id": "7973c681-cf8b-402f-bbb0-e06ee2ee2907",
   "metadata": {},
   "outputs": [],
   "source": [
    "close_df = pd.DataFrame()"
   ]
  },
  {
   "cell_type": "code",
   "execution_count": 8,
   "id": "ddea7d4e-88e0-4cd6-ac6b-d432afdb9e07",
   "metadata": {},
   "outputs": [
    {
     "name": "stderr",
     "output_type": "stream",
     "text": [
      "/var/folders/dh/33z47vpj40s235p36bcdhcxm0000gn/T/ipykernel_28055/3195260325.py:2: FutureWarning: YF.download() has changed argument auto_adjust default to True\n",
      "  data = yf.download(ticker, start= start_date, end= end_date)\n",
      "[*********************100%***********************]  1 of 1 completed\n",
      "/var/folders/dh/33z47vpj40s235p36bcdhcxm0000gn/T/ipykernel_28055/3195260325.py:2: FutureWarning: YF.download() has changed argument auto_adjust default to True\n",
      "  data = yf.download(ticker, start= start_date, end= end_date)\n",
      "[*********************100%***********************]  1 of 1 completed\n",
      "/var/folders/dh/33z47vpj40s235p36bcdhcxm0000gn/T/ipykernel_28055/3195260325.py:2: FutureWarning: YF.download() has changed argument auto_adjust default to True\n",
      "  data = yf.download(ticker, start= start_date, end= end_date)\n",
      "[*********************100%***********************]  1 of 1 completed\n",
      "/var/folders/dh/33z47vpj40s235p36bcdhcxm0000gn/T/ipykernel_28055/3195260325.py:2: FutureWarning: YF.download() has changed argument auto_adjust default to True\n",
      "  data = yf.download(ticker, start= start_date, end= end_date)\n",
      "[*********************100%***********************]  1 of 1 completed\n",
      "/var/folders/dh/33z47vpj40s235p36bcdhcxm0000gn/T/ipykernel_28055/3195260325.py:2: FutureWarning: YF.download() has changed argument auto_adjust default to True\n",
      "  data = yf.download(ticker, start= start_date, end= end_date)\n",
      "[*********************100%***********************]  1 of 1 completed\n"
     ]
    }
   ],
   "source": [
    "for ticker in tickers: \n",
    "    data = yf.download(ticker, start= start_date, end= end_date)\n",
    "    close_df[ticker] = data['Close']"
   ]
  },
  {
   "cell_type": "markdown",
   "id": "01c5fd23-1081-46f5-aeee-1e687c4f2f7b",
   "metadata": {},
   "source": [
    "print(close_df)"
   ]
  },
  {
   "cell_type": "code",
   "execution_count": 10,
   "id": "93a93d59-27de-4faf-8b86-125680b8949c",
   "metadata": {},
   "outputs": [],
   "source": [
    "#Lognormal Returns (additive) \n",
    "\n",
    "log_returns = np.log(close_df / close_df.shift(1))"
   ]
  },
  {
   "cell_type": "code",
   "execution_count": 11,
   "id": "66dd1fe7-0f05-44af-bbe5-669e6a170cb6",
   "metadata": {},
   "outputs": [
    {
     "data": {
      "text/html": [
       "<div>\n",
       "<style scoped>\n",
       "    .dataframe tbody tr th:only-of-type {\n",
       "        vertical-align: middle;\n",
       "    }\n",
       "\n",
       "    .dataframe tbody tr th {\n",
       "        vertical-align: top;\n",
       "    }\n",
       "\n",
       "    .dataframe thead th {\n",
       "        text-align: right;\n",
       "    }\n",
       "</style>\n",
       "<table border=\"1\" class=\"dataframe\">\n",
       "  <thead>\n",
       "    <tr style=\"text-align: right;\">\n",
       "      <th></th>\n",
       "      <th>IVV</th>\n",
       "      <th>AMZN</th>\n",
       "      <th>AAPL</th>\n",
       "      <th>VEU</th>\n",
       "      <th>GOLD</th>\n",
       "    </tr>\n",
       "    <tr>\n",
       "      <th>Date</th>\n",
       "      <th></th>\n",
       "      <th></th>\n",
       "      <th></th>\n",
       "      <th></th>\n",
       "      <th></th>\n",
       "    </tr>\n",
       "  </thead>\n",
       "  <tbody>\n",
       "    <tr>\n",
       "      <th>2024-01-09</th>\n",
       "      <td>-0.000945</td>\n",
       "      <td>0.015110</td>\n",
       "      <td>-0.002266</td>\n",
       "      <td>-0.010280</td>\n",
       "      <td>-0.016529</td>\n",
       "    </tr>\n",
       "    <tr>\n",
       "      <th>2024-01-10</th>\n",
       "      <td>0.005592</td>\n",
       "      <td>0.015471</td>\n",
       "      <td>0.005655</td>\n",
       "      <td>0.003981</td>\n",
       "      <td>-0.003454</td>\n",
       "    </tr>\n",
       "    <tr>\n",
       "      <th>2024-01-11</th>\n",
       "      <td>-0.000543</td>\n",
       "      <td>0.009388</td>\n",
       "      <td>-0.003228</td>\n",
       "      <td>0.000722</td>\n",
       "      <td>-0.011018</td>\n",
       "    </tr>\n",
       "    <tr>\n",
       "      <th>2024-01-12</th>\n",
       "      <td>0.000856</td>\n",
       "      <td>-0.003615</td>\n",
       "      <td>0.001776</td>\n",
       "      <td>0.003782</td>\n",
       "      <td>0.028171</td>\n",
       "    </tr>\n",
       "    <tr>\n",
       "      <th>2024-01-16</th>\n",
       "      <td>-0.003472</td>\n",
       "      <td>-0.009487</td>\n",
       "      <td>-0.012394</td>\n",
       "      <td>-0.017956</td>\n",
       "      <td>-0.100084</td>\n",
       "    </tr>\n",
       "    <tr>\n",
       "      <th>...</th>\n",
       "      <td>...</td>\n",
       "      <td>...</td>\n",
       "      <td>...</td>\n",
       "      <td>...</td>\n",
       "      <td>...</td>\n",
       "    </tr>\n",
       "    <tr>\n",
       "      <th>2025-06-27</th>\n",
       "      <td>0.004382</td>\n",
       "      <td>0.028066</td>\n",
       "      <td>0.000398</td>\n",
       "      <td>0.004782</td>\n",
       "      <td>-0.035530</td>\n",
       "    </tr>\n",
       "    <tr>\n",
       "      <th>2025-06-30</th>\n",
       "      <td>0.005556</td>\n",
       "      <td>-0.017665</td>\n",
       "      <td>0.020136</td>\n",
       "      <td>0.002085</td>\n",
       "      <td>0.017442</td>\n",
       "    </tr>\n",
       "    <tr>\n",
       "      <th>2025-07-01</th>\n",
       "      <td>-0.000371</td>\n",
       "      <td>0.004865</td>\n",
       "      <td>0.012833</td>\n",
       "      <td>0.000149</td>\n",
       "      <td>0.001440</td>\n",
       "    </tr>\n",
       "    <tr>\n",
       "      <th>2025-07-02</th>\n",
       "      <td>0.004421</td>\n",
       "      <td>-0.002452</td>\n",
       "      <td>0.021987</td>\n",
       "      <td>0.003267</td>\n",
       "      <td>0.017590</td>\n",
       "    </tr>\n",
       "    <tr>\n",
       "      <th>2025-07-03</th>\n",
       "      <td>0.007590</td>\n",
       "      <td>0.015745</td>\n",
       "      <td>0.005211</td>\n",
       "      <td>0.001778</td>\n",
       "      <td>0.011247</td>\n",
       "    </tr>\n",
       "  </tbody>\n",
       "</table>\n",
       "<p>372 rows × 5 columns</p>\n",
       "</div>"
      ],
      "text/plain": [
       "                 IVV      AMZN      AAPL       VEU      GOLD\n",
       "Date                                                        \n",
       "2024-01-09 -0.000945  0.015110 -0.002266 -0.010280 -0.016529\n",
       "2024-01-10  0.005592  0.015471  0.005655  0.003981 -0.003454\n",
       "2024-01-11 -0.000543  0.009388 -0.003228  0.000722 -0.011018\n",
       "2024-01-12  0.000856 -0.003615  0.001776  0.003782  0.028171\n",
       "2024-01-16 -0.003472 -0.009487 -0.012394 -0.017956 -0.100084\n",
       "...              ...       ...       ...       ...       ...\n",
       "2025-06-27  0.004382  0.028066  0.000398  0.004782 -0.035530\n",
       "2025-06-30  0.005556 -0.017665  0.020136  0.002085  0.017442\n",
       "2025-07-01 -0.000371  0.004865  0.012833  0.000149  0.001440\n",
       "2025-07-02  0.004421 -0.002452  0.021987  0.003267  0.017590\n",
       "2025-07-03  0.007590  0.015745  0.005211  0.001778  0.011247\n",
       "\n",
       "[372 rows x 5 columns]"
      ]
     },
     "execution_count": 11,
     "metadata": {},
     "output_type": "execute_result"
    }
   ],
   "source": [
    "log_returns = log_returns.dropna()\n",
    "log_returns"
   ]
  },
  {
   "cell_type": "code",
   "execution_count": 12,
   "id": "bcf38fa5-714b-4cec-8089-8fad81b0f4c0",
   "metadata": {},
   "outputs": [
    {
     "data": {
      "text/html": [
       "<div>\n",
       "<style scoped>\n",
       "    .dataframe tbody tr th:only-of-type {\n",
       "        vertical-align: middle;\n",
       "    }\n",
       "\n",
       "    .dataframe tbody tr th {\n",
       "        vertical-align: top;\n",
       "    }\n",
       "\n",
       "    .dataframe thead th {\n",
       "        text-align: right;\n",
       "    }\n",
       "</style>\n",
       "<table border=\"1\" class=\"dataframe\">\n",
       "  <thead>\n",
       "    <tr style=\"text-align: right;\">\n",
       "      <th></th>\n",
       "      <th>IVV</th>\n",
       "      <th>AMZN</th>\n",
       "      <th>AAPL</th>\n",
       "      <th>VEU</th>\n",
       "      <th>GOLD</th>\n",
       "    </tr>\n",
       "  </thead>\n",
       "  <tbody>\n",
       "    <tr>\n",
       "      <th>IVV</th>\n",
       "      <td>0.029864</td>\n",
       "      <td>0.041775</td>\n",
       "      <td>0.036104</td>\n",
       "      <td>0.020205</td>\n",
       "      <td>0.016533</td>\n",
       "    </tr>\n",
       "    <tr>\n",
       "      <th>AMZN</th>\n",
       "      <td>0.041775</td>\n",
       "      <td>0.099733</td>\n",
       "      <td>0.048643</td>\n",
       "      <td>0.023833</td>\n",
       "      <td>0.012975</td>\n",
       "    </tr>\n",
       "    <tr>\n",
       "      <th>AAPL</th>\n",
       "      <td>0.036104</td>\n",
       "      <td>0.048643</td>\n",
       "      <td>0.087558</td>\n",
       "      <td>0.023797</td>\n",
       "      <td>0.016255</td>\n",
       "    </tr>\n",
       "    <tr>\n",
       "      <th>VEU</th>\n",
       "      <td>0.020205</td>\n",
       "      <td>0.023833</td>\n",
       "      <td>0.023797</td>\n",
       "      <td>0.023037</td>\n",
       "      <td>0.024734</td>\n",
       "    </tr>\n",
       "    <tr>\n",
       "      <th>GOLD</th>\n",
       "      <td>0.016533</td>\n",
       "      <td>0.012975</td>\n",
       "      <td>0.016255</td>\n",
       "      <td>0.024734</td>\n",
       "      <td>0.121025</td>\n",
       "    </tr>\n",
       "  </tbody>\n",
       "</table>\n",
       "</div>"
      ],
      "text/plain": [
       "           IVV      AMZN      AAPL       VEU      GOLD\n",
       "IVV   0.029864  0.041775  0.036104  0.020205  0.016533\n",
       "AMZN  0.041775  0.099733  0.048643  0.023833  0.012975\n",
       "AAPL  0.036104  0.048643  0.087558  0.023797  0.016255\n",
       "VEU   0.020205  0.023833  0.023797  0.023037  0.024734\n",
       "GOLD  0.016533  0.012975  0.016255  0.024734  0.121025"
      ]
     },
     "execution_count": 12,
     "metadata": {},
     "output_type": "execute_result"
    }
   ],
   "source": [
    "# Covariance Matrix, measure total risk of portfolio \n",
    "\n",
    "cov_matrix = log_returns.cov()*252 \n",
    "cov_matrix"
   ]
  },
  {
   "cell_type": "code",
   "execution_count": 13,
   "id": "7c8788c9-1835-4b61-b454-7e30d8415d2c",
   "metadata": {},
   "outputs": [],
   "source": [
    "# Calculate portfolio performance metrics \n",
    "# 1. Portfolio Standard Deviation \n",
    "def standard_deviation(weights, cov_matrix):\n",
    "    variance = weights.T @ cov_matrix @ weights\n",
    "    return np.sqrt(variance)\n"
   ]
  },
  {
   "cell_type": "code",
   "execution_count": 14,
   "id": "10febe75-d3f7-4627-865e-909c8e177cda",
   "metadata": {},
   "outputs": [],
   "source": [
    "# 2. Expected Returns (Key assumption: based expected returns \n",
    "# on historical returns where avg securities in the past is similar)\n",
    "def expected_return(weights, log_returns):\n",
    "    return np.sum(log_returns.mean()*weights)*252\n",
    "\n"
   ]
  },
  {
   "cell_type": "code",
   "execution_count": 15,
   "id": "5cf897fa-e75e-4633-a618-b22df19d43c2",
   "metadata": {},
   "outputs": [],
   "source": [
    "# 3. Sharpe Ratio \n",
    "def sharpe_ratio(weights, log_returns, cov_matrix, risk_free_rate):\n",
    "    return(expected_return(weights, log_returns) - risk_free_rate) / standard_deviation(weights, cov_matrix)"
   ]
  },
  {
   "cell_type": "code",
   "execution_count": 16,
   "id": "c0c75120-f555-48db-953f-ef76fb8f762b",
   "metadata": {},
   "outputs": [],
   "source": [
    "# Portfolio Optimization "
   ]
  },
  {
   "cell_type": "code",
   "execution_count": 17,
   "id": "451e6068-e033-4016-9d14-473a61b9e254",
   "metadata": {},
   "outputs": [
    {
     "name": "stdout",
     "output_type": "stream",
     "text": [
      "0.0438\n"
     ]
    }
   ],
   "source": [
    "# Implement risk free rate (assume 2%) via textbook \n",
    "# Or use federal reserve API\n",
    "# Website: https://fredaccount.stlouisfed.org/apikey\n",
    "\n",
    "from fredapi import Fred\n",
    "\n",
    "fred = Fred(api_key = 'b006c12cf31afd09359d05a22c8aed02')\n",
    "ten_year_treasury_rate = fred.get_series_latest_release('GS10')/100\n",
    "risk_free_rate = ten_year_treasury_rate.iloc[-1]\n",
    "print(risk_free_rate)\n"
   ]
  },
  {
   "cell_type": "code",
   "execution_count": 18,
   "id": "36fdee0e-64ef-4c5e-8712-ed41d43a8824",
   "metadata": {},
   "outputs": [],
   "source": [
    "#Implement negative sharpe ratio\n",
    "\n",
    "def neg_sharpe_ratio(weights, log_returns, cov_matrix, risk_free_rate):\n",
    "    return -sharpe_ratio(weights, log_returns, cov_matrix, risk_free_rate)"
   ]
  },
  {
   "cell_type": "code",
   "execution_count": 19,
   "id": "82f4fa82-b357-4ddd-ad6c-d03bc73f987b",
   "metadata": {},
   "outputs": [],
   "source": [
    "# Setting constraints and bounds (ensure weights all sum to 1)\n",
    "# Reason why we apply \"0\" bounds is because we are assuming we are only \n",
    "# going long or purchasing assets and never go short/selling assets \n",
    "# 0.5 implies that we cannot have more than 50% from a single security in the portfolio\n",
    "constraints = {'type': 'eq', 'fun': lambda weights: np.sum(weights) - 1}\n",
    "bounds = [(0, 0.6) for i in range(len(tickers))]\n"
   ]
  },
  {
   "cell_type": "code",
   "execution_count": 20,
   "id": "0de392b9-0b85-4557-96a2-8d014f487535",
   "metadata": {},
   "outputs": [
    {
     "name": "stdout",
     "output_type": "stream",
     "text": [
      "[0.2 0.2 0.2 0.2 0.2]\n"
     ]
    }
   ],
   "source": [
    "# Set the initial weights \n",
    "initial_weights = np.array([1/len(tickers)]*len(tickers))\n",
    "print(initial_weights)"
   ]
  },
  {
   "cell_type": "code",
   "execution_count": 21,
   "id": "dafaf822-9cdf-471f-af62-19b8f207310b",
   "metadata": {},
   "outputs": [],
   "source": [
    "# Optimize weights to maximize sharpe ratio \n",
    "# SLSQP stands for sequential least squares quadratic programming, \n",
    "# which is a numerical optimization technique suitable for solving \n",
    "# non-linear optimization problems with constraints\n",
    "\n",
    "optimized_results = minimize(neg_sharpe_ratio, initial_weights, args = \n",
    "                             (log_returns, cov_matrix, risk_free_rate),\n",
    "                             method = 'SLSQP',\n",
    "                             constraints = constraints,\n",
    "                             bounds = bounds)"
   ]
  },
  {
   "cell_type": "code",
   "execution_count": 22,
   "id": "5f01308c-9f4c-44f5-aa3d-49222dc47268",
   "metadata": {},
   "outputs": [
    {
     "name": "stdout",
     "output_type": "stream",
     "text": [
      "[6.00000000e-01 1.05566706e-01 1.27085956e-16 2.73329158e-01\n",
      " 2.11041359e-02]\n"
     ]
    }
   ],
   "source": [
    "# Obtain Optimal Weights \n",
    "optimal_weights = optimized_results.x\n",
    "print(optimal_weights)"
   ]
  },
  {
   "cell_type": "code",
   "execution_count": 23,
   "id": "1b6b6dc2-2f1c-436a-8eb2-d7d94fc45ae9",
   "metadata": {},
   "outputs": [
    {
     "name": "stdout",
     "output_type": "stream",
     "text": [
      "Optimal Weights:\n",
      "IVV: 0.6000\n",
      "AMZN: 0.1056\n",
      "AAPL: 0.0000\n",
      "VEU: 0.2733\n",
      "GOLD: 0.0211\n",
      "\n",
      "Expected Annual Return: 0.1959\n",
      "Expected Volatility: 0.1664\n",
      "Sharpe Ratio: 0.9140\n"
     ]
    }
   ],
   "source": [
    "print(\"Optimal Weights:\")\n",
    "for ticker, weight in zip(tickers, optimal_weights):\n",
    "    print(f\"{ticker}: {weight:.4f}\")\n",
    "print()\n",
    "\n",
    "optimal_portfolio_return = expected_return(optimal_weights, log_returns) \n",
    "optimal_portfolio_volatility = standard_deviation(optimal_weights, cov_matrix)\n",
    "optimal_sharpe_ratio = sharpe_ratio(optimal_weights, log_returns, cov_matrix, risk_free_rate)\n",
    "\n",
    "\n",
    "print(f\"Expected Annual Return: {optimal_portfolio_return:.4f}\")\n",
    "print (f\"Expected Volatility: {optimal_portfolio_volatility:.4f}\")\n",
    "print(f\"Sharpe Ratio: {optimal_sharpe_ratio:.4f}\")"
   ]
  },
  {
   "cell_type": "code",
   "execution_count": 24,
   "id": "4cf809e5-d628-4790-989e-9ad411244e76",
   "metadata": {},
   "outputs": [
    {
     "data": {
      "text/plain": [
       "Text(0.5, 1.0, 'Optimal Portfolio Weights')"
      ]
     },
     "execution_count": 24,
     "metadata": {},
     "output_type": "execute_result"
    },
    {
     "data": {
      "image/png": "[encoded data removed]",
      "text/plain": [
       "<Figure size 1000x600 with 1 Axes>"
      ]
     },
     "metadata": {},
     "output_type": "display_data"
    }
   ],
   "source": [
    "#Visualize \n",
    "import matplotlib.pyplot as plt \n",
    "\n",
    "plt.figure(figsize=(10,6))\n",
    "plt.bar(tickers, optimal_weights)\n",
    "\n",
    "plt.xlabel('Assets')\n",
    "plt.ylabel('Optimal Weights')\n",
    "plt.title('Optimal Portfolio Weights')"
   ]
  },
  {
   "cell_type": "code",
   "execution_count": null,
   "id": "22bbe497-0557-4c8a-b6cb-f63613ec8690",
   "metadata": {},
   "outputs": [],
   "source": [
    "#https://claude.ai/public/artifacts/2acbd6f1-546b-4ccf-8267-5ea78f02ad93"
   ]
  },
  {
   "cell_type": "code",
   "execution_count": null,
   "id": "e1378f64-2c17-4d51-88a8-45c8ee8ae85c",
   "metadata": {},
   "outputs": [],
   "source": [
    "#plt.savefig('/Users/your_username/Desktop/plot.png', dpi=300)"
   ]
  }
 ],
 "metadata": {
  "kernelspec": {
   "display_name": "Python [conda env:base] *",
   "language": "python",
   "name": "conda-base-py"
  },
  "language_info": {
   "codemirror_mode": {
    "name": "ipython",
    "version": 3
   },
   "file_extension": ".py",
   "mimetype": "text/x-python",
   "name": "python",
   "nbconvert_exporter": "python",
   "pygments_lexer": "ipython3",
   "version": "3.12.7"
  }
 },
 "nbformat": 4,
 "nbformat_minor": 5
}
